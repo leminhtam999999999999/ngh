{
  "nbformat": 4,
  "nbformat_minor": 0,
  "metadata": {
    "colab": {
      "provenance": []
    },
    "kernelspec": {
      "name": "python3",
      "display_name": "Python 3"
    },
    "language_info": {
      "name": "python"
    }
  },
  "cells": [
    {
      "cell_type": "code",
      "execution_count": 3,
      "metadata": {
        "colab": {
          "base_uri": "https://localhost:8080/"
        },
        "id": "ehCHDnpMi73D",
        "outputId": "8440c2f1-9ddc-41f8-8eb8-cafc4c2df504"
      },
      "outputs": [
        {
          "output_type": "stream",
          "name": "stdout",
          "text": [
            "[[99 99 99]\n",
            " [99 99 99]\n",
            " [99 99 99]]\n"
          ]
        }
      ],
      "source": [
        "# bài tập về nhà\n",
        "import numpy as np\n",
        "mang = np.full((3, 3), 99)\n",
        "print(mang)\n"
      ]
    },
    {
      "cell_type": "code",
      "source": [
        "def print_mang(mang):\n",
        "    for row in mang:\n",
        "        print([\"X\" if cell == 1 else \"O\" if cell == 0 else \" \" for cell in row])\n",
        "    print()\n",
        "\n",
        "# Hàm xử lý trò chơi\n",
        "def play_game():\n",
        "    print(\"Trò chơi X và 0:\")\n",
        "    print(\"Người chơi X là 1 và người chơi O là 0.\")\n",
        "    print(\"Hãy nhập chỉ số (hàng, cột) để điền vào mảng.\")\n",
        "\n",
        "    # In mảng ban đầu\n",
        "    print(\"Mảng ban đầu:\")\n",
        "    print_mang(mang)\n",
        "\n",
        "    turn = 1  # Lượt chơi (1 = X, 0 = O)\n",
        "    moves = 0  # Đếm số bước đi\n",
        "\n",
        "    while True:\n",
        "        try:\n",
        "            # Nhập chỉ số từ người chơi\n",
        "            move = input(f\"Người chơi {'X' if turn == 1 else 'O'}, nhập cặp chỉ số (hàng, cột): \")\n",
        "            row, col = map(int, move.strip(\"()\").split(\",\"))\n",
        "\n",
        "            # Kiểm tra tính hợp lệ của chỉ số\n",
        "            if row < 0 or row >= 3 or col < 0 or col >= 3:\n",
        "                print(\"Vị trí không hợp lệ, vui lòng nhập lại!\")\n",
        "                continue\n",
        "\n",
        "            # Kiểm tra nếu người chơi 0 nhập (0,0)\n",
        "            if turn == 0 and (row, col) == (0, 0):\n",
        "                print(\"Người chơi O không được chọn (0, 0). Vui lòng nhập lại!\")\n",
        "                continue\n",
        "\n",
        "            # Kiểm tra nếu ô đã được điền\n",
        "            if mang[row, col] != 99:\n",
        "                print(\"Ô đã được điền, vui lòng nhập lại!\")\n",
        "                continue\n",
        "\n",
        "            # Điền giá trị vào mảng\n",
        "            mang[row, col] = turn\n",
        "            moves += 1  # Tăng số lượt chơi\n",
        "\n",
        "            # In mảng sau khi điền\n",
        "            print_mang(mang)\n",
        "\n",
        "            # Kiểm tra nếu có người thắng hoặc đã điền đủ\n",
        "            if check_winner(mang, turn):\n",
        "                print(f\"Người chơi {'X' if turn == 1 else 'O'} thắng!\")\n",
        "                break\n",
        "            elif moves == 9:\n",
        "                print(\"Trò chơi hòa!\")\n",
        "                break\n",
        "\n",
        "            # Đổi lượt\n",
        "            turn = 1 - turn\n",
        "        except Exception as e:\n",
        "            print(\"Lỗi nhập liệu, vui lòng nhập lại theo định dạng (hàng, cột)!\")\n",
        "\n",
        "# Hàm kiểm tra người thắng\n",
        "def check_winner(mang, player):\n",
        "    # Kiểm tra hàng\n",
        "    for row in mang:\n",
        "        if np.all(row == player):\n",
        "            return True\n",
        "    # Kiểm tra cột\n",
        "    for col in mang.T:\n",
        "        if np.all(col == player):\n",
        "            return True\n",
        "    # Kiểm tra đường chéo\n",
        "    if np.all(np.diag(mang) == player) or np.all(np.diag(np.fliplr(mang)) == player):\n",
        "        return True\n",
        "    return False\n",
        "\n",
        "# Chạy trò chơi\n",
        "play_game()\n",
        "\n",
        "\n"
      ],
      "metadata": {
        "colab": {
          "base_uri": "https://localhost:8080/"
        },
        "id": "xxgnIc6ijGiG",
        "outputId": "2f5009b2-b3b9-4059-cd30-e1b8c23eb8cf"
      },
      "execution_count": null,
      "outputs": [
        {
          "output_type": "stream",
          "name": "stdout",
          "text": [
            "Trò chơi X và 0:\n",
            "Người chơi X là 1 và người chơi O là 0.\n",
            "Hãy nhập chỉ số (hàng, cột) để điền vào mảng.\n",
            "Mảng ban đầu:\n",
            "[' ', ' ', ' ']\n",
            "[' ', ' ', ' ']\n",
            "[' ', ' ', ' ']\n",
            "\n",
            "Người chơi X, nhập cặp chỉ số (hàng, cột): 2,3\n",
            "Vị trí không hợp lệ, vui lòng nhập lại!\n"
          ]
        }
      ]
    },
    {
      "cell_type": "code",
      "source": [],
      "metadata": {
        "id": "Gp_tV2gdkcwk"
      },
      "execution_count": null,
      "outputs": []
    }
  ]
}